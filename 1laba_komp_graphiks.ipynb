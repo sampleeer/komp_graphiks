{
  "nbformat": 4,
  "nbformat_minor": 0,
  "metadata": {
    "colab": {
      "provenance": []
    },
    "kernelspec": {
      "name": "python3",
      "display_name": "Python 3"
    },
    "language_info": {
      "name": "python"
    }
  },
  "cells": [
    {
      "cell_type": "code",
      "source": [
        "# все библиотеки\n",
        "\n",
        "import matplotlib.pyplot as plt\n",
        "import math\n",
        "import numpy as np\n",
        "import numpy as np\n",
        "import matplotlib.pyplot as plt\n",
        "from mpl_toolkits.mplot3d import Axes3D"
      ],
      "metadata": {
        "id": "EZvxrFbF0MeO"
      },
      "execution_count": 47,
      "outputs": []
    },
    {
      "cell_type": "markdown",
      "source": [
        "\n",
        "\n",
        "```\n",
        "Даны точки А, В, С своими координатами, найти уравнение прямой проходящей\n",
        "через точку С и перпендикулярную прямой АВ.\n",
        "```\n",
        "\n"
      ],
      "metadata": {
        "id": "cYg2IDuXarKl"
      }
    },
    {
      "cell_type": "code",
      "execution_count": 73,
      "metadata": {
        "id": "L6Z5pbkDZ0gw"
      },
      "outputs": [],
      "source": [
        "def find_perpendicular_line_equation(A, B, C):\n",
        "    # Вычисляем координаты вектора AB\n",
        "    AB_vector = (B[0] - A[0], B[1] - A[1])\n",
        "\n",
        "    # Находим координаты вектора, перпендикулярного AB\n",
        "    perpendicular_vector = (-AB_vector[1], AB_vector[0])\n",
        "\n",
        "    # Уравнение прямой имеет вид y = mx + b\n",
        "    # Где m - угловой коэффициент, равный отношению y-компоненты вектора к x-компоненте\n",
        "    # Проверка на вертикальную линию (деление на 0)\n",
        "    if perpendicular_vector[0] == 0:\n",
        "      # Вертикальная линия, возвращаем специальное значение\n",
        "      return None\n",
        "    else:\n",
        "      m = perpendicular_vector[1] / perpendicular_vector[0]\n",
        "\n",
        "    # Теперь найдем b, подставив координаты точки C в уравнение\n",
        "    b = C[1] - m * C[0]\n",
        "\n",
        "    return m, b\n",
        "\n",
        "\n",
        "\n",
        "def plot_perpendicular_line(A, B, C):\n",
        "    line_equation = find_perpendicular_line_equation(A, B, C)\n",
        "\n",
        "    if line_equation is None:\n",
        "        return\n",
        "\n",
        "    m, b = line_equation\n",
        "\n",
        "    plt.plot([A[0], B[0]], [A[1], B[1]], label='AB')\n",
        "    plt.plot([C[0], C[0] + 1], [C[1], m * (C[0] + 1) + b], linestyle='--', label='Перпендикуляр')\n",
        "\n",
        "    plt.scatter([A[0], B[0], C[0]], [A[1], B[1], C[1]], color='red')\n",
        "\n",
        "    plt.text(A[0], A[1], 'A', ha='right')\n",
        "    plt.text(B[0], B[1], 'B', ha='right')\n",
        "    plt.text(C[0], C[1], 'C', ha='right')\n",
        "\n",
        "    plt.xlabel('X')\n",
        "    plt.ylabel('Y')\n",
        "    plt.legend()\n",
        "    plt.grid()\n",
        "    plt.show()"
      ]
    },
    {
      "cell_type": "code",
      "source": [
        "A = (0, 0)\n",
        "B = (0, 1)\n",
        "C = (0, -1)\n",
        "\n",
        "try:\n",
        "    result = find_perpendicular_line_equation(A, B, C)\n",
        "\n",
        "    if result is None:\n",
        "        print(\":(\")\n",
        "    else:\n",
        "        m, b = result\n",
        "        print(\"Уравнение прямой:\", f'y = {m} * x + {b}')\n",
        "\n",
        "    plot_perpendicular_line(A, B, C)\n",
        "\n",
        "except Exception as e:\n",
        "    print(\"Произошла ошибка:\", e)"
      ],
      "metadata": {
        "colab": {
          "base_uri": "https://localhost:8080/",
          "height": 467
        },
        "id": "vokShamMaMHl",
        "outputId": "c211f681-b0ea-41fc-b82f-ba0e86dbae49"
      },
      "execution_count": 79,
      "outputs": [
        {
          "output_type": "stream",
          "name": "stdout",
          "text": [
            "Уравнение прямой: y = -0.0 * x + -1.0\n"
          ]
        },
        {
          "output_type": "display_data",
          "data": {
            "text/plain": [
              "<Figure size 640x480 with 1 Axes>"
            ],
            "image/png": "[encoded data removed]"
          },
          "metadata": {}
        }
      ]
    },
    {
      "cell_type": "markdown",
      "source": [
        "Даны три точки А,В,С, лежащие на одной прямой. Определить какая из них лежит\n",
        "между двумя другими."
      ],
      "metadata": {
        "id": "_YoeEZavaydQ"
      }
    },
    {
      "cell_type": "code",
      "source": [
        "def find_middle_point(A, B, C):\n",
        "    x1, y1 = A\n",
        "    x2, y2 = B\n",
        "    points = [A, B, C]\n",
        "\n",
        "    # Находим угловой коэффициент\n",
        "    m = (y2 - y1) / (x2 - x1) if x2 != x1 else float('inf')\n",
        "\n",
        "    if m > 0:\n",
        "      sorted_points = sorted(points, key=lambda point: (point[0], point[1]))\n",
        "      middle_index = len(sorted_points) // 2\n",
        "      middle_point = sorted_points[middle_index]\n",
        "    elif m < 0:\n",
        "      sorted_points = sorted(points, key=lambda point: point[1])\n",
        "      middle_index = len(sorted_points) // 2\n",
        "      middle_point = sorted_points[middle_index]\n",
        "    else:\n",
        "      sorted_points = sorted(points, key=lambda point: point[1])\n",
        "      middle_index = len(sorted_points) // 2\n",
        "      middle_point = sorted_points[middle_index]\n",
        "\n",
        "    return middle_point\n",
        "\n",
        "def plot_points(A, B, C, middle_point):\n",
        "    plt.scatter(*zip(A, B, C), color='blue')  # Рисуем точки A, B, C\n",
        "    plt.scatter(*zip(middle_point), color='red')  # Рисуем точку, лежащую между двумя другими\n",
        "    plt.plot(*zip(A, B, C, A), color='gray')  # Соединяем точки прямой\n",
        "\n",
        "    plt.title('Взаимное расположение точек')\n",
        "    plt.xlabel('X')\n",
        "    plt.ylabel('Y')\n",
        "    plt.grid(True)\n",
        "    plt.show()"
      ],
      "metadata": {
        "id": "6BIsmNKzacVb"
      },
      "execution_count": 34,
      "outputs": []
    },
    {
      "cell_type": "code",
      "source": [
        "A = (1, 0)\n",
        "B = (1, 1)\n",
        "C = (1, 3)\n",
        "\n",
        "middle_point = find_middle_point(A, B, C)\n",
        "print(\"точка посередине с координатами: \", middle_point)\n",
        "plot_points(A, B, C, middle_point)"
      ],
      "metadata": {
        "colab": {
          "base_uri": "https://localhost:8080/",
          "height": 490
        },
        "id": "CbEV_Xs8aoZw",
        "outputId": "c18ac98d-46cf-4a09-9335-8238e0fd9c20"
      },
      "execution_count": 36,
      "outputs": [
        {
          "output_type": "stream",
          "name": "stdout",
          "text": [
            "точка посередине с координатами:  (1, 1)\n"
          ]
        },
        {
          "output_type": "display_data",
          "data": {
            "text/plain": [
              "<Figure size 640x480 with 1 Axes>"
            ],
            "image/png": "[encoded data removed]"
          },
          "metadata": {}
        }
      ]
    },
    {
      "cell_type": "markdown",
      "source": [
        "Даны 4 точки A, B, C, D. Перпендикулярны ли прямые АВ и CD?"
      ],
      "metadata": {
        "id": "VtYhf-r_b3F-"
      }
    },
    {
      "cell_type": "code",
      "source": [
        "def are_lines_perpendicular(a, b, c, d):\n",
        "    eps = 0.000001\n",
        "\n",
        "    # Вычисляем векторы ab, cd, ac\n",
        "    ab = (b[0] - a[0], b[1] - a[1], b[2] - a[2])\n",
        "    cd = (d[0] - c[0], d[1] - c[1], d[2] - c[2])\n",
        "    ac = (c[0] - a[0], c[1] - a[1], c[2] - a[2])\n",
        "\n",
        "    # Скалярное произведение векторов ab и cd\n",
        "    dot = ab[0] * cd[0] + ab[1] * cd[1] + ab[2] * cd[2]\n",
        "\n",
        "    # Проверка на перепендикулярность\n",
        "    check = ab[0] * (cd[1] * ac[2] - cd[2] * ac[1]) - ab[1] * (cd[0] * ac[2] - cd[2] * ac[0]) + ab[2] * (cd[0] * ac[1] - cd[1] * ac[0])\n",
        "\n",
        "    if abs(dot) < eps and check == 0:\n",
        "        print(\"Прямые AB и CD перпендикулярны.\")\n",
        "    else:\n",
        "        print(\"Прямые AB и CD не перпендикулярны.\")\n"
      ],
      "metadata": {
        "id": "s3i5M3uJb31n"
      },
      "execution_count": 89,
      "outputs": []
    },
    {
      "cell_type": "code",
      "source": [
        "A = (1, 0, 0)\n",
        "B = (0, 1, 0)\n",
        "C = (0, 0, 1)\n",
        "D = (0, 0, 0)\n",
        "\n",
        "result = are_lines_perpendicular(A, B, C, D)"
      ],
      "metadata": {
        "colab": {
          "base_uri": "https://localhost:8080/"
        },
        "id": "dByh1acVcBhK",
        "outputId": "fb19d54e-cc6e-4823-fc9a-f489858ef64a"
      },
      "execution_count": 92,
      "outputs": [
        {
          "output_type": "stream",
          "name": "stdout",
          "text": [
            "Прямые AB и CD не перпендикулярны.\n"
          ]
        }
      ]
    },
    {
      "cell_type": "markdown",
      "source": [
        "Даны точки А, В, С, D, Е своими координатами, найти уравнение плоскости\n",
        "проходящей через точки D и Е и перпендикулярную плоскости АВС."
      ],
      "metadata": {
        "id": "OVHWNpmllpcj"
      }
    },
    {
      "cell_type": "code",
      "source": [
        "def get_perpend_plane_eq(a, b, c, d, e):\n",
        "    eps = 0.01\n",
        "\n",
        "    # Вычисление векторов ab и bc\n",
        "    ab = (b[0] - a[0], b[1] - a[1], b[2] - a[2])\n",
        "    bc = (c[0] - b[0], c[1] - b[1], c[2] - b[2])\n",
        "\n",
        "    # Вычисление вектора нормали к плоскости abc\n",
        "    cross = (ab[1] * bc[2] - ab[2] * bc[1],\n",
        "             ab[2] * bc[0] - ab[0] * bc[2],\n",
        "             ab[0] * bc[1] - ab[1] * bc[0])\n",
        "\n",
        "    # Обработка случая, когда вектор нормали равен нулю\n",
        "    if cross == (0, 0, 0):\n",
        "        a = (a[0] + eps, a[1] + eps, a[2] + eps)\n",
        "\n",
        "    # Обработка случая, когда точки D и E совпадают\n",
        "    if d == e:\n",
        "        d = (d[0] + eps, d[1] + eps, d[2] + eps)\n",
        "\n",
        "    # Вычисление коэффициентов A, B, C, D для плоскости abc\n",
        "    abc_A = (b[1] - a[1]) * (c[2] - a[2]) - (b[2] - a[2]) * (c[1] - a[1])\n",
        "    abc_B = (b[2] - a[2]) * (c[0] - a[0]) - (b[0] - a[0]) * (c[2] - a[2])\n",
        "    abc_C = (b[0] - a[0]) * (c[1] - a[1]) - (b[1] - a[1]) * (c[0] - a[0])\n",
        "    abc_D = -1 * (abc_A * a[0] + abc_B * a[1] + abc_C * a[2])\n",
        "\n",
        "    # Проверка еси D и E лежат в плоскости abc\n",
        "    if (abc_A * d[0] + abc_B * d[1] + abc_C * d[2] + abc_D == 0 and\n",
        "            abc_A * e[0] + abc_B * e[1] + abc_C * e[2] + abc_D == 0):\n",
        "        d = (d[0] + eps, d[1] + eps, d[2] + eps)\n",
        "\n",
        "    # Вычисление вектора DE\n",
        "    de = (e[0] - d[0], e[1] - d[1], e[2] - d[2])\n",
        "\n",
        "    # Вычисление коэффициентов A, B, C, D для плоскости de, перпендикулярной abc\n",
        "    de_A = (e[1] - d[1]) * abc_C - (e[2] - d[2]) * abc_B\n",
        "    de_B = -1 * ((e[0] - d[0]) * abc_C - (e[2] - d[2]) * abc_A)\n",
        "    de_C = (e[0] - d[0]) * abc_B - (e[1] - d[1]) * abc_A\n",
        "    de_D = (e[0] * d[1] - d[0] * e[1]) * abc_C + (d[0] * e[2] - e[0] * d[2]) * abc_B + (\n",
        "            e[1] * d[2] - d[1] * e[2]) * abc_A\n",
        "\n",
        "    # Вывод коэффициентов уравнения плоскости de\n",
        "    print(\"A:\", de_A)\n",
        "    print(\"B:\", de_B)\n",
        "    print(\"C:\", de_C)\n",
        "    print(\"D:\", de_D)\n"
      ],
      "metadata": {
        "id": "PP9EEFKRtUZv"
      },
      "execution_count": 142,
      "outputs": []
    },
    {
      "cell_type": "code",
      "source": [
        "a = (0, 0, 0)\n",
        "b = (1, 0, 0)\n",
        "c = (0, 1, 0)\n",
        "d = (0, 0, 1)\n",
        "e = (0, 0, 0)\n",
        "\n",
        "get_perpend_plane_eq(a, b, c, d, e)"
      ],
      "metadata": {
        "colab": {
          "base_uri": "https://localhost:8080/"
        },
        "id": "cM3SVGDNtVja",
        "outputId": "f73288bb-fc75-490e-b8c4-64c7bd8ca255"
      },
      "execution_count": 143,
      "outputs": [
        {
          "output_type": "stream",
          "name": "stdout",
          "text": [
            "A: -0.01\n",
            "B: 0.01\n",
            "C: 0.0\n",
            "D: 0.0\n"
          ]
        }
      ]
    },
    {
      "cell_type": "markdown",
      "source": [
        "Даны три точки А,В,С задающие треугольник. Определить длину медианы,\n",
        "высоты и биссектрисы опущенных из точки А."
      ],
      "metadata": {
        "id": "R050u2aLmkgw"
      }
    },
    {
      "cell_type": "code",
      "source": [
        "\n",
        "def form_triangle(A, B, C) -> bool:\n",
        "    eps = 0.0001\n",
        "    x1, y1 = A\n",
        "    x2, y2 = B\n",
        "    x3, y3 = C\n",
        "\n",
        "    a = (x1 * (y2 - y3) +\n",
        "         x2 * (y3 - y1) +\n",
        "         x3 * (y1 - y2))\n",
        "    if a < eps:\n",
        "        return False\n",
        "    else:\n",
        "      return True\n",
        "\n",
        "\n",
        "def dist(A, B):\n",
        "    return math.pow((B[0] - A[0]), 2) + math.pow((B[1] - A[1]), 2)\n",
        "\n",
        "def find_mediana(A, B, C):\n",
        "    mid_BC = ((B[0] + C[0]) / 2, (B[1] + C[1]) / 2)\n",
        "    return math.sqrt(dist(A, mid_BC))\n",
        "\n",
        "def find_height(A, B, C):\n",
        "    coef_a = (C[1] - B[1]) / (C[0] - B[0])\n",
        "    coef_b = -1\n",
        "    coef_c = -1 * (B[0] * C[1] - C[0] * B[1]) / (C[0] - B[0])\n",
        "\n",
        "    height = abs(coef_a * A[0] + coef_b * A[1] + coef_c) / math.sqrt(math.pow(coef_a, 2) + math.pow(coef_b, 2))\n",
        "\n",
        "    return height\n",
        "\n",
        "def find_bisector(A, B, C):\n",
        "    lambda_val = math.sqrt(dist(A, C) / dist(A, B))\n",
        "    H = ((C[0] + lambda_val * B[0]) / (1 + lambda_val), (C[1] + lambda_val * B[1]) / (1 + lambda_val))\n",
        "\n",
        "    return math.sqrt(dist(A, H))\n"
      ],
      "metadata": {
        "id": "Kv3xsooyxpcK"
      },
      "execution_count": 132,
      "outputs": []
    },
    {
      "cell_type": "code",
      "source": [
        "A = (2, 2)\n",
        "B = (2, 2)\n",
        "C = (2, 2)\n",
        "\n",
        "if form_triangle(A, B, C):\n",
        "  print(\"Медиана: \", find_mediana(A, B, C))\n",
        "  print(\"Биссектриса: \", find_bisector(A, B, C))\n",
        "  print(\"Высота: \", find_height(A, B, C))\n",
        "else:\n",
        "  print(\"это не треугольник!\")"
      ],
      "metadata": {
        "colab": {
          "base_uri": "https://localhost:8080/"
        },
        "id": "KJ74oSi70zhd",
        "outputId": "343cf383-472c-403f-c869-357e222d8a74"
      },
      "execution_count": 133,
      "outputs": [
        {
          "output_type": "stream",
          "name": "stdout",
          "text": [
            "это не треугольник!\n"
          ]
        }
      ]
    },
    {
      "cell_type": "code",
      "source": [
        "\n",
        "def plot_triangle_with_properties(A, B, C):\n",
        "    # Проверяем, что точки образуют треугольник\n",
        "    if np.cross(np.array(B) - np.array(A), np.array(C) - np.array(A)) == 0:\n",
        "        print(\"Точки не образуют треугольник.\")\n",
        "        return\n",
        "\n",
        "    plt.plot([A[0], B[0]], [A[1], B[1]], label='AB')\n",
        "    plt.plot([B[0], C[0]], [B[1], C[1]], label='BC')\n",
        "    plt.plot([C[0], A[0]], [C[1], A[1]], label='CA')\n",
        "\n",
        "    # Длина медианы\n",
        "    median_length = distance(A, midpoint(B, C))\n",
        "    plt.plot([A[0], midpoint(B, C)[0]], [A[1], midpoint(B, C)[1]], linestyle='--', label='Медиана')\n",
        "\n",
        "    # Длина высоты\n",
        "    height_length = distance(A, B)\n",
        "    plt.plot([A[0], A[0]], [A[1], B[1]], linestyle='--', label='Высота')\n",
        "\n",
        "    # Длина биссектрисы\n",
        "    bissectrice_length = 2 * distance(A, midpoint(B, C)) * np.cos(np.radians(0.5 * np.degrees(np.arccos(distance(B, C) / (2 * distance(A, midpoint(B, C)))))))\n",
        "    plt.plot([A[0], midpoint(B, C)[0]], [A[1], midpoint(B, C)[1]], linestyle='--', label='Биссектриса')\n",
        "\n",
        "    plt.scatter([A[0], B[0], C[0], midpoint(B, C)[0]], [A[1], B[1], C[1], midpoint(B, C)[1]], color='red')\n",
        "\n",
        "    plt.text(A[0], A[1], 'A', ha='right')\n",
        "    plt.text(B[0], B[1], 'B', ha='right')\n",
        "    plt.text(C[0], C[1], 'C', ha='right')\n",
        "    plt.text(midpoint(B, C)[0], midpoint(B, C)[1], 'M', ha='right')\n",
        "\n",
        "    plt.xlabel('X')\n",
        "    plt.ylabel('Y')\n",
        "    plt.legend()\n",
        "    plt.grid()\n",
        "    plt.show()\n"
      ],
      "metadata": {
        "id": "IQoquXFYuhwP"
      },
      "execution_count": 29,
      "outputs": []
    },
    {
      "cell_type": "code",
      "source": [
        "plot_triangle_with_properties(A, B, C)"
      ],
      "metadata": {
        "colab": {
          "base_uri": "https://localhost:8080/",
          "height": 449
        },
        "id": "a1Pob0eyu2kB",
        "outputId": "4e7be723-f486-4b1b-bea4-8b5e8e80da17"
      },
      "execution_count": 30,
      "outputs": [
        {
          "output_type": "display_data",
          "data": {
            "text/plain": [
              "<Figure size 640x480 with 1 Axes>"
            ],
            "image/png": "[encoded data removed]"
          },
          "metadata": {}
        }
      ]
    },
    {
      "cell_type": "code",
      "source": [
        "\n",
        "\n",
        "\n",
        "def plot_points_and_lines(A, B, C, D):\n",
        "    fig = plt.figure()\n",
        "    ax = fig.add_subplot(111, projection='3d')\n",
        "\n",
        "    # Рисуем точки A, B, C, D\n",
        "    ax.scatter(*zip(A, B, C, D), color='blue')\n",
        "\n",
        "    # Рисуем прямые AB и CD\n",
        "    x_values_AB = np.linspace(A[0], B[0], 100)\n",
        "    y_values_AB = np.linspace(A[1], B[1], 100)\n",
        "    z_values_AB = np.linspace(A[2], B[2], 100)\n",
        "    ax.plot(x_values_AB, y_values_AB, z_values_AB, label='AB', color='orange')\n",
        "\n",
        "    x_values_CD = np.full(100, C[0])  # Вертикальная линия\n",
        "    y_values_CD = np.linspace(C[1], D[1], 100)\n",
        "    z_values_CD = np.linspace(C[2], D[2], 100)\n",
        "    ax.plot(x_values_CD, y_values_CD, z_values_CD, label='CD', color='green')\n",
        "\n",
        "    ax.set_title('Взаимное расположение точек и прямых')\n",
        "    ax.set_xlabel('X')\n",
        "    ax.set_ylabel('Y')\n",
        "    ax.set_zlabel('Z')\n",
        "    ax.legend()\n",
        "\n",
        "    plt.show()\n",
        "\n",
        "plot_points_and_lines(A, B, C, D)\n"
      ],
      "metadata": {
        "id": "8rmkMbEd9FC6"
      },
      "execution_count": null,
      "outputs": []
    },
    {
      "cell_type": "code",
      "source": [
        "def find_plane_equation(A, B, C, D, E):\n",
        "    # Векторы AB и AC\n",
        "    AB = np.array(B) - np.array(A)\n",
        "    AC = np.array(C) - np.array(A)\n",
        "\n",
        "    # Нормаль к плоскости ABC\n",
        "    N = np.cross(AB, AC)\n",
        "\n",
        "    # Уравнение плоскости, проходящей через точку D и перпендикулярной ABC\n",
        "    plane_equation = f'{N[0]} * (x - {D[0]}) + {N[1]} * (y - {D[1]}) + {N[2]} * (z - {D[2]})'\n",
        "\n",
        "    return plane_equation"
      ],
      "metadata": {
        "id": "c8TFvVLGlos6"
      },
      "execution_count": 23,
      "outputs": []
    },
    {
      "cell_type": "code",
      "source": [
        "A = (1, 1, 1)\n",
        "B = (2, 2, 2)\n",
        "C = (3, 3, 3)\n",
        "D = (4, 4, 4)\n",
        "E = (5, 5, 5)\n",
        "\n",
        "\n",
        "print(find_plane_equation(A, B, C, D, E))"
      ],
      "metadata": {
        "colab": {
          "base_uri": "https://localhost:8080/"
        },
        "id": "AspPWAK969r1",
        "outputId": "236a57f9-8aeb-4ccb-f1e5-81c48a94ee3d"
      },
      "execution_count": 24,
      "outputs": [
        {
          "output_type": "stream",
          "name": "stdout",
          "text": [
            "0 * (x - 4) + 0 * (y - 4) + 0 * (z - 4)\n"
          ]
        }
      ]
    }
  ]
}